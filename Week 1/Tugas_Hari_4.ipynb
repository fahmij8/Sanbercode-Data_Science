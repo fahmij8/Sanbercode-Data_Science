{
  "nbformat": 4,
  "nbformat_minor": 0,
  "metadata": {
    "kernelspec": {
      "display_name": "Python 3",
      "language": "python",
      "name": "python3"
    },
    "language_info": {
      "codemirror_mode": {
        "name": "ipython",
        "version": 3
      },
      "file_extension": ".py",
      "mimetype": "text/x-python",
      "name": "python",
      "nbconvert_exporter": "python",
      "pygments_lexer": "ipython3",
      "version": "3.7.7"
    },
    "colab": {
      "name": "Tugas Hari 4.ipynb",
      "provenance": [],
      "collapsed_sections": []
    }
  },
  "cells": [
    {
      "cell_type": "markdown",
      "metadata": {
        "id": "1O3NGQSKzf_A",
        "colab_type": "text"
      },
      "source": [
        "# Tugas Hari 4 + Tugas Tambahan (Python - Data Science)\n",
        "### Organized by Sanbercode\n",
        "##### Nama : Fahmi Jabbar (fahmijabbar12@gmail.com)"
      ]
    },
    {
      "cell_type": "markdown",
      "metadata": {
        "id": "m2VWq6g9szIv",
        "colab_type": "text"
      },
      "source": [
        "<h2>Soal 1: Sifat List</h2>\n",
        "\n",
        "Jawab Pertanyaan di bawah ini:\n",
        "\n",
        "Jenis data apa saja yang bisa ada di dalam List?"
      ]
    },
    {
      "cell_type": "markdown",
      "metadata": {
        "id": "oUTuv3Me3izt",
        "colab_type": "text"
      },
      "source": [
        "**Jawaban:**\n",
        "\n",
        "Bisa terdapat string, integer, float, dan boolean.Bahkan pada kasus lebih advance, didalam list bisa terdapat list lagi, atau object python yang lainnya."
      ]
    },
    {
      "cell_type": "markdown",
      "metadata": {
        "id": "XD1fT351szI2",
        "colab_type": "text"
      },
      "source": [
        "<h2>Soal 2: Akses List</h2>\n",
        "\n",
        "Lengkapi kode untuk menghasilkan suatu output yang di harapkan"
      ]
    },
    {
      "cell_type": "code",
      "metadata": {
        "id": "qXKteY88szI5",
        "colab_type": "code",
        "colab": {
          "base_uri": "https://localhost:8080/",
          "height": 34
        },
        "outputId": "4506e79b-73eb-4a92-eec9-6e5ebd83b351"
      },
      "source": [
        "a = ['1', '13b', 'aa1', 1.32, 22.1, 2.34]\n",
        "# slicing list\n",
        "a[1:-1]"
      ],
      "execution_count": null,
      "outputs": [
        {
          "output_type": "execute_result",
          "data": {
            "text/plain": [
              "['13b', 'aa1', 1.32, 22.1]"
            ]
          },
          "metadata": {
            "tags": []
          },
          "execution_count": 1
        }
      ]
    },
    {
      "cell_type": "markdown",
      "metadata": {
        "id": "4Qp2wjmOszJJ",
        "colab_type": "text"
      },
      "source": [
        "Expected Output :\n",
        "\n",
        "[ '13b', 'aa1', 1.32, 22.1 ]"
      ]
    },
    {
      "cell_type": "markdown",
      "metadata": {
        "id": "qf7YmOZzszJL",
        "colab_type": "text"
      },
      "source": [
        "<h2>Soal 3: Nested List</h2>\n",
        "\n",
        "Lengkapi kode untuk menghasilkan suatu output yang di harapkan"
      ]
    },
    {
      "cell_type": "code",
      "metadata": {
        "id": "JCac4gPfszJO",
        "colab_type": "code",
        "colab": {
          "base_uri": "https://localhost:8080/",
          "height": 34
        },
        "outputId": "1ee23462-4e4b-48b7-8714-8bac780f93c8"
      },
      "source": [
        "a = [1.32, 22.1, 2.34]\n",
        "b = ['1', '13b', 'aa1']\n",
        "c = [3, 40, 100]\n",
        "# combine list\n",
        "combined = [a, c, b]\n",
        "print(combined)"
      ],
      "execution_count": null,
      "outputs": [
        {
          "output_type": "stream",
          "text": [
            "[[1.32, 22.1, 2.34], [3, 40, 100], ['1', '13b', 'aa1']]\n"
          ],
          "name": "stdout"
        }
      ]
    },
    {
      "cell_type": "markdown",
      "metadata": {
        "id": "mNzKeR8hszJk",
        "colab_type": "text"
      },
      "source": [
        "Expected Output :\n",
        "\n",
        "[ [1.32, 22.1, 2.34], [3, 40, 100], ['1', '13b', 'aa1'] ]"
      ]
    },
    {
      "cell_type": "markdown",
      "metadata": {
        "id": "zKS3e_kTszJm",
        "colab_type": "text"
      },
      "source": [
        "<h2>Soal 4: Akses Nested List</h2>\n",
        "\n",
        "Lengkapi kode untuk menghasilkan suatu output yang di harapkan"
      ]
    },
    {
      "cell_type": "code",
      "metadata": {
        "id": "IhFh_WCzszJo",
        "colab_type": "code",
        "colab": {
          "base_uri": "https://localhost:8080/",
          "height": 34
        },
        "outputId": "c0f1a28c-d034-4666-c287-2d6828cad635"
      },
      "source": [
        "a = [\n",
        "    [5, 9, 8],\n",
        "    [0, 0, 6]\n",
        "    ]\n",
        "# subsetting list\n",
        "print(a[1][1:])"
      ],
      "execution_count": null,
      "outputs": [
        {
          "output_type": "stream",
          "text": [
            "[0, 6]\n"
          ],
          "name": "stdout"
        }
      ]
    },
    {
      "cell_type": "markdown",
      "metadata": {
        "id": "mk5EMa6pszJ2",
        "colab_type": "text"
      },
      "source": [
        "Expected Output :\n",
        "\n",
        "\n",
        "[0, 6]"
      ]
    },
    {
      "cell_type": "markdown",
      "metadata": {
        "id": "sTVLtrqCszJ4",
        "colab_type": "text"
      },
      "source": [
        "<h2>Soal 5: Built in Function List</h2>\n",
        "\n",
        "Lengkapi kode untuk menghasilkan suatu output yang di harapkan"
      ]
    },
    {
      "cell_type": "code",
      "metadata": {
        "id": "oCz3O7gAszJ6",
        "colab_type": "code",
        "colab": {
          "base_uri": "https://localhost:8080/",
          "height": 51
        },
        "outputId": "8798316b-e367-40a6-d072-b8461bed17f5"
      },
      "source": [
        "p = [0, 5, 2, 10, 4, 9]\n",
        "# ordered list\n",
        "print(sorted(p, reverse=False))\n",
        "# get max value of list\n",
        "print(max(p))"
      ],
      "execution_count": null,
      "outputs": [
        {
          "output_type": "stream",
          "text": [
            "[0, 2, 4, 5, 9, 10]\n",
            "10\n"
          ],
          "name": "stdout"
        }
      ]
    },
    {
      "cell_type": "markdown",
      "metadata": {
        "id": "Nejk71aWszKE",
        "colab_type": "text"
      },
      "source": [
        "Expected Output :\n",
        "\n",
        "[0, 2, 4, 5, 9, 10]\n",
        "\n",
        "10"
      ]
    },
    {
      "cell_type": "markdown",
      "metadata": {
        "id": "OEU53cA_szKG",
        "colab_type": "text"
      },
      "source": [
        "<h2>Soal 6: List Operation</h2>\n",
        "\n",
        "Lengkapi kode untuk menghasilkan suatu output yang di harapkan"
      ]
    },
    {
      "cell_type": "code",
      "metadata": {
        "id": "N-dxC1qYszKJ",
        "colab_type": "code",
        "colab": {
          "base_uri": "https://localhost:8080/",
          "height": 34
        },
        "outputId": "26574d98-7f04-41de-adf8-8a7c4f3d5966"
      },
      "source": [
        "a = [1, 3, 5]\n",
        "b = [5, 1, 3]\n",
        "# combine list\n",
        "print(b + a)"
      ],
      "execution_count": null,
      "outputs": [
        {
          "output_type": "stream",
          "text": [
            "[5, 1, 3, 1, 3, 5]\n"
          ],
          "name": "stdout"
        }
      ]
    },
    {
      "cell_type": "markdown",
      "metadata": {
        "id": "g0xy9HZrszKV",
        "colab_type": "text"
      },
      "source": [
        "Expected Output :\n",
        "\n",
        "[5, 1, 3, 1, 3, 5]"
      ]
    },
    {
      "cell_type": "markdown",
      "metadata": {
        "id": "cggENDN4szKX",
        "colab_type": "text"
      },
      "source": [
        "<h2>Soal 7: List Manipulation</h2>\n",
        "\n",
        "Lengkapi kode untuk menghasilkan suatu output yang di harapkan"
      ]
    },
    {
      "cell_type": "code",
      "metadata": {
        "id": "GOZQAPg9szKa",
        "colab_type": "code",
        "colab": {
          "base_uri": "https://localhost:8080/",
          "height": 34
        },
        "outputId": "6fafcdb4-290c-41d4-bc6c-503139157475"
      },
      "source": [
        "a = [\n",
        "    [5, 9, 8],\n",
        "    [0, 0, 6]\n",
        "    ]\n",
        "# change list value\n",
        "a[0][2] = 10\n",
        "# change list value\n",
        "a[1][0] = 11\n",
        "print(a)"
      ],
      "execution_count": null,
      "outputs": [
        {
          "output_type": "stream",
          "text": [
            "[[5, 9, 10], [11, 0, 6]]\n"
          ],
          "name": "stdout"
        }
      ]
    },
    {
      "cell_type": "markdown",
      "metadata": {
        "id": "iYHFRJW7szKl",
        "colab_type": "text"
      },
      "source": [
        "Expected Output :\n",
        "\n",
        "[ [5, 9, 10], [11, 0, 6] ]"
      ]
    },
    {
      "cell_type": "markdown",
      "metadata": {
        "id": "dSTDqY9iszKn",
        "colab_type": "text"
      },
      "source": [
        "<h2>Soal 8: Delete Element List</h2>\n",
        "\n",
        "Lengkapi kode untuk menghasilkan suatu output yang di harapkan"
      ]
    },
    {
      "cell_type": "code",
      "metadata": {
        "id": "hTQNLWiUszKq",
        "colab_type": "code",
        "colab": {
          "base_uri": "https://localhost:8080/",
          "height": 34
        },
        "outputId": "5cb60a8f-a9bd-4a8c-bac5-ed37cabac1c6"
      },
      "source": [
        "areas = [\"hallway\", 11.25, \"kitchen\", 18.0,\n",
        "        \"chill zone\", 20.0, \"bedroom\", 10.75,\n",
        "         \"bathroom\", 10.50, \"poolhouse\", 24.5,\n",
        "         \"garage\", 15.45]\n",
        "\n",
        "# Hilangkan elemen yang bernilai \"bathroom\" dan 10.50 dalam satu statement code\n",
        "del(areas[8:10])\n",
        "print(areas)"
      ],
      "execution_count": null,
      "outputs": [
        {
          "output_type": "stream",
          "text": [
            "['hallway', 11.25, 'kitchen', 18.0, 'chill zone', 20.0, 'bedroom', 10.75, 'poolhouse', 24.5, 'garage', 15.45]\n"
          ],
          "name": "stdout"
        }
      ]
    },
    {
      "cell_type": "markdown",
      "metadata": {
        "id": "ZeF61jc_szK1",
        "colab_type": "text"
      },
      "source": [
        "Expected Output:\n",
        "\n",
        "['hallway',\n",
        " 11.25,\n",
        " 'kitchen',\n",
        " 18.0,\n",
        " 'chill zone',\n",
        " 20.0,\n",
        " 'bedroom',\n",
        " 10.75,\n",
        " 'poolhouse',\n",
        " 24.5,\n",
        " 'garage',\n",
        " 15.45]\n",
        "\n"
      ]
    },
    {
      "cell_type": "markdown",
      "metadata": {
        "id": "onKmJ3XqY5FN",
        "colab_type": "text"
      },
      "source": [
        "## Soal 9: List Comprehension\n",
        "\n",
        "Gunakan metode **list comprehension** untuk mencari anggota dari S yang habis di bagi 2, kemudian assign hasilnya dalam bentuk list ke dalam variabel T."
      ]
    },
    {
      "cell_type": "code",
      "metadata": {
        "id": "xs3OWJP_Z5rb",
        "colab_type": "code",
        "colab": {
          "base_uri": "https://localhost:8080/",
          "height": 34
        },
        "outputId": "90ef3e73-4f7b-4371-9795-6a8f428e9e89"
      },
      "source": [
        "S = [0, 1, 4, 9, 16, 25, 36, 49, 64, 81]\n",
        "\n",
        "T = [num for num in S if num % 2 == 0]\n",
        "\n",
        "print(T)"
      ],
      "execution_count": null,
      "outputs": [
        {
          "output_type": "stream",
          "text": [
            "[0, 4, 16, 36, 64]\n"
          ],
          "name": "stdout"
        }
      ]
    },
    {
      "cell_type": "markdown",
      "metadata": {
        "id": "Jjn-28CDaShb",
        "colab_type": "text"
      },
      "source": [
        "Expected Output:\n",
        "\n",
        "[0, 4, 16, 36, 64]"
      ]
    },
    {
      "cell_type": "markdown",
      "metadata": {
        "id": "gdBwjXz8zoMi",
        "colab_type": "text"
      },
      "source": [
        "# Dictionary"
      ]
    },
    {
      "cell_type": "markdown",
      "metadata": {
        "id": "fyoYEJKw6qoo",
        "colab_type": "text"
      },
      "source": [
        "<h2>Soal 10: Akses Dictionary</h2>\n",
        "\n",
        "Lengkapi kode untuk menghasilkan suatu output yang di harapkan"
      ]
    },
    {
      "cell_type": "code",
      "metadata": {
        "id": "rs7ByDTw6qop",
        "colab_type": "code",
        "colab": {
          "base_uri": "https://localhost:8080/",
          "height": 51
        },
        "outputId": "ced633a6-1329-4949-e31b-b84c71a8e6ac"
      },
      "source": [
        "europe = {'spain':'madrid', 'france':'paris', 'germany':'berlin', 'norway':'oslo' }\n",
        "\n",
        "# print semua key yang ada di objek europe\n",
        "print(europe.keys())\n",
        "# print nilai dari key franche\n",
        "print(europe['france'])"
      ],
      "execution_count": null,
      "outputs": [
        {
          "output_type": "stream",
          "text": [
            "dict_keys(['spain', 'france', 'germany', 'norway'])\n",
            "paris\n"
          ],
          "name": "stdout"
        }
      ]
    },
    {
      "cell_type": "markdown",
      "metadata": {
        "id": "LF8QRq8E6qov",
        "colab_type": "text"
      },
      "source": [
        "Expected Output:\n",
        "\n",
        "dict_keys(['spain', 'france', 'germany', 'norway'])\n",
        "\n",
        "paris"
      ]
    },
    {
      "cell_type": "markdown",
      "metadata": {
        "id": "qjMKbE9D6qow",
        "colab_type": "text"
      },
      "source": [
        "<h2>Soal 11: Menambahkan key-value baru ke Dictionary</h2>\n",
        "\n",
        "Lengkapi kode untuk menghasilkan suatu output yang di harapkan"
      ]
    },
    {
      "cell_type": "code",
      "metadata": {
        "id": "rU7Z5dzC6qox",
        "colab_type": "code",
        "colab": {
          "base_uri": "https://localhost:8080/",
          "height": 34
        },
        "outputId": "603b6974-c1e8-4782-bbfe-186107f1a3d5"
      },
      "source": [
        "europe = {'spain':'madrid', 'france':'paris', 'germany':'berlin', 'norway':'oslo' }\n",
        "\n",
        "# tambahkan key itali ke objek dictionary dengan value roma\n",
        "europe['italy'] = 'roma'\n",
        "\n",
        "# cek apakah itali ada di dalam objek dictionary\n",
        "print('italy' in europe)"
      ],
      "execution_count": null,
      "outputs": [
        {
          "output_type": "stream",
          "text": [
            "True\n"
          ],
          "name": "stdout"
        }
      ]
    },
    {
      "cell_type": "markdown",
      "metadata": {
        "id": "ur84PUyz6qo1",
        "colab_type": "text"
      },
      "source": [
        "Expected Output:\n",
        "    \n",
        "True"
      ]
    },
    {
      "cell_type": "markdown",
      "metadata": {
        "id": "bgilSLKl6qo2",
        "colab_type": "text"
      },
      "source": [
        "<h2>Soal 12: Update dan Remove Dictinary</h2>\n",
        "    \n",
        "Lengkapi kode untuk menghasilkan suatu output yang di harapkan"
      ]
    },
    {
      "cell_type": "code",
      "metadata": {
        "id": "QO9EowXH6qo2",
        "colab_type": "code",
        "colab": {
          "base_uri": "https://localhost:8080/",
          "height": 34
        },
        "outputId": "fcf7c7ec-70a8-40c3-c0d9-3351660930b9"
      },
      "source": [
        "europe = {'spain':'madrid', 'france':'paris', 'germany':'bonn',\n",
        "          'norway':'oslo', 'italy':'rome', 'poland':'warsaw',\n",
        "          'australia':'vienna' }\n",
        "\n",
        "# update nilai ibukota german ke berlin\n",
        "europe.update({'germany':'berlin'})\n",
        "\n",
        "# remove australia dari europa\n",
        "del europe['australia']\n",
        "\n",
        "print(europe)"
      ],
      "execution_count": null,
      "outputs": [
        {
          "output_type": "stream",
          "text": [
            "{'spain': 'madrid', 'france': 'paris', 'germany': 'berlin', 'norway': 'oslo', 'italy': 'rome', 'poland': 'warsaw'}\n"
          ],
          "name": "stdout"
        }
      ]
    },
    {
      "cell_type": "markdown",
      "metadata": {
        "id": "VDpHuoXS6qo6",
        "colab_type": "text"
      },
      "source": [
        "Expected Output:\n",
        "\n",
        "{'spain': 'madrid', 'france': 'paris', 'germany': 'berlin', 'norway': 'oslo', 'italy': 'rome', 'poland': 'warsaw'}"
      ]
    },
    {
      "cell_type": "markdown",
      "metadata": {
        "id": "FNWyId1S6qo7",
        "colab_type": "text"
      },
      "source": [
        "<h2>Soal 13: Nested Dictionary</h2>\n",
        "    \n",
        "Lengkapi kode untuk menghasilkan suatu output yang di harapkan"
      ]
    },
    {
      "cell_type": "code",
      "metadata": {
        "id": "OAkJDiGd6qo7",
        "colab_type": "code",
        "colab": {
          "base_uri": "https://localhost:8080/",
          "height": 71
        },
        "outputId": "406c248a-4d34-41e5-9f11-68f27410b223"
      },
      "source": [
        "country = { \n",
        "           'spain': { 'capital':'madrid', 'population':46.77 },\n",
        "           'france': { 'capital':'paris', 'population':66.03 },\n",
        "           'germany': { 'capital':'berlin', 'population':80.62 },\n",
        "           'norway': { 'capital':'oslo', 'population':5.084 } \n",
        "         }\n",
        "\n",
        "# berapa populasi dari kota german?\n",
        "print(country['germany']['population'])\n",
        "\n",
        "# update data baru, yaitu negara indonesia dengan capital jakarta dan poulasi 250\n",
        "country.update({'indonesia' : {'capital':'jakarta','population':250}})\n",
        "print(country)"
      ],
      "execution_count": null,
      "outputs": [
        {
          "output_type": "stream",
          "text": [
            "80.62\n",
            "{'spain': {'capital': 'madrid', 'population': 46.77}, 'france': {'capital': 'paris', 'population': 66.03}, 'germany': {'capital': 'berlin', 'population': 80.62}, 'norway': {'capital': 'oslo', 'population': 5.084}, 'indonesia': {'capital': 'jakarta', 'population': 250}}\n"
          ],
          "name": "stdout"
        }
      ]
    },
    {
      "cell_type": "markdown",
      "metadata": {
        "id": "fKT0REFD6qo_",
        "colab_type": "text"
      },
      "source": [
        "Expected Output:\n",
        "\n",
        "80.62\n",
        "\n",
        "{'spain': {'capital': 'madrid', 'population': 46.77}, 'france': {'capital': 'paris', 'population': 66.03}, 'germany': {'capital': 'berlin', 'population': 80.62}, 'norway': {'capital': 'oslo', 'population': 5.084}, 'indonesia': {'capital': 'jakarta', 'population': 250}}"
      ]
    },
    {
      "cell_type": "markdown",
      "metadata": {
        "id": "xefUN_T56qpA",
        "colab_type": "text"
      },
      "source": [
        "<h2>Soal 14: Loop Dictionary</h2>\n",
        "    \n",
        "Lengkapi kode untuk menghasilkan suatu output yang di harapkan"
      ]
    },
    {
      "cell_type": "code",
      "metadata": {
        "id": "SkYQ0sD76qpA",
        "colab_type": "code",
        "colab": {
          "base_uri": "https://localhost:8080/",
          "height": 102
        },
        "outputId": "1d5b387a-10af-403c-9ea2-fe8892c21f58"
      },
      "source": [
        "country = { \n",
        "           'spain': { 'capital':'madrid', 'population':46.77 },\n",
        "           'france': { 'capital':'paris', 'population':66.03 },\n",
        "           'germany': { 'capital':'berlin', 'population':80.62 },\n",
        "           'norway': { 'capital':'oslo', 'population':5.084 },\n",
        "           'indonesia' : {'capital':'jakarta', 'population':250}\n",
        "         }\n",
        "\n",
        "for countries, capital in country.items():\n",
        "    print('Ibukota ' + countries + ' adalah ' + capital['capital'])"
      ],
      "execution_count": null,
      "outputs": [
        {
          "output_type": "stream",
          "text": [
            "Ibukota spain adalah madrid\n",
            "Ibukota france adalah paris\n",
            "Ibukota germany adalah berlin\n",
            "Ibukota norway adalah oslo\n",
            "Ibukota indonesia adalah jakarta\n"
          ],
          "name": "stdout"
        }
      ]
    },
    {
      "cell_type": "markdown",
      "metadata": {
        "id": "YjX6xAtj6qpE",
        "colab_type": "text"
      },
      "source": [
        "Expected Output:\n",
        "    \n",
        "Ibukota spain adalah madrid\n",
        "\n",
        "Ibukota france adalah paris\n",
        "\n",
        "Ibukota germany adalah berlin\n",
        "\n",
        "Ibukota norway adalah oslo\n",
        "\n",
        "Ibukota indonesia adalah jakarta"
      ]
    },
    {
      "cell_type": "markdown",
      "metadata": {
        "id": "W37aC7t7ds0l",
        "colab_type": "text"
      },
      "source": [
        "## **Tugas Tambahan**\n",
        "### **Remove Duplicate List**"
      ]
    },
    {
      "cell_type": "code",
      "metadata": {
        "id": "qL4bgx2gd2UU",
        "colab_type": "code",
        "colab": {
          "base_uri": "https://localhost:8080/",
          "height": 51
        },
        "outputId": "2ea8b2f0-ce8b-4b64-9f7f-e26a90c2d5a5"
      },
      "source": [
        "# solusi tanpa menggunakan set\n",
        "def remove_duplicate(obj_list):\n",
        "  new_list = []\n",
        "  for num in obj_list:\n",
        "    if num not in new_list:\n",
        "      new_list.append(num)\n",
        "  return new_list\n",
        "\n",
        "# solusi dengan menggunakan set\n",
        "def remove_duplicate_with_set(obj_list):\n",
        "  new_list = list(set(obj_list))\n",
        "  return new_list\n",
        "\n",
        "obj_list = [1, 2, 4, 6, 2, 1, 4, 5, 7, 8, 6]\n",
        "print(remove_duplicate(obj_list))\n",
        "print(remove_duplicate_with_set(obj_list))"
      ],
      "execution_count": null,
      "outputs": [
        {
          "output_type": "stream",
          "text": [
            "[1, 2, 4, 6, 5, 7, 8]\n",
            "[1, 2, 4, 5, 6, 7, 8]\n"
          ],
          "name": "stdout"
        }
      ]
    },
    {
      "cell_type": "markdown",
      "metadata": {
        "id": "Tf_8LsfAfyIq",
        "colab_type": "text"
      },
      "source": [
        "### **Membuat chatbot sederhana**"
      ]
    },
    {
      "cell_type": "code",
      "metadata": {
        "id": "ZMQYX09ngCiC",
        "colab_type": "code",
        "colab": {
          "base_uri": "https://localhost:8080/",
          "height": 85
        },
        "outputId": "dbdcd454-c29a-41ff-e117-4266b4f7d5c6"
      },
      "source": [
        "from datetime import datetime\n",
        "import random\n",
        "\n",
        "# ganti dengan sebuah nama\n",
        "nama  = \"Fahmi Jabbar\"\n",
        "# variabel tanggal\n",
        "tanggal = datetime.now().day\n",
        "# default variabel untuk pertanyaan tidak diketahui\n",
        "default = \"maaf, aku tidak tahu jawaban dari pertanyaanmu\"\n",
        "\n",
        "# Membuat objek dictionary berisi berbagai opsi jawaban\n",
        "\n",
        "# list jawaban untuk pertanyaan tentang nama\n",
        "jawaban_nama = [\"nama saya  {0}\".format(nama),\n",
        "                \"orang-orang memanggil saya {0}\".format(nama),\n",
        "                \"panggil saja saya {0}\".format(nama)]\n",
        "\n",
        "# list jawaban untuk pertanyaan tentang tanggal\n",
        "jawaban_tanggal = [\"hari ini tanggal {0}\".format(tanggal),\n",
        "                   \"ya ampun masa tidak tahu, hari ini tanggal {0}\".format(tanggal)]\n",
        "\n",
        "# opsi pertanyaan yang bisa dijawab\n",
        "pertanyaan = {\"nama kamu siapa?\": jawaban_nama,\n",
        "              \"kamu siapa?\" : jawaban_nama,\n",
        "              \"tanggal berapa hari ini?\": jawaban_tanggal,\n",
        "              \"hari ini tanggal berapa?\" : jawaban_tanggal,\n",
        "              \"default\": default\n",
        "}\n",
        "\n",
        "# list jawaban untuk sebuah argument selain pertanyaan\n",
        "statement =  ['ceritakan lebih banyak!',\n",
        "              'kenapa kamu berpikir begitu?',\n",
        "              'sudah berapa lama kamu merasa seperti ini?',\n",
        "              'Itu sangat menarik!',\n",
        "              'oh wow!',\n",
        "              ':)']\n",
        "\n",
        "# respon keseluruhan\n",
        "responses = {'pertanyaan' : pertanyaan,\n",
        "             'statement' : statement}\n",
        "\n",
        "#------\n",
        "             \n",
        "# ayo buat chatbotmu\n",
        "def chatbot(message):\n",
        "  answer = ''\n",
        "  if message in pertanyaan:\n",
        "    for q, a in pertanyaan.items():\n",
        "      if message == q:\n",
        "        answer = random.choice(a)\n",
        "  elif message[-1] != '?':\n",
        "    answer = random.choice(statement)\n",
        "  else:\n",
        "    answer = default\n",
        "  return answer\n",
        "\n",
        "print(chatbot('Selamat Pagi'))\n",
        "print(chatbot('Mau bermain bersamaku?'))\n",
        "print(chatbot('nama kamu siapa?'))\n",
        "print(chatbot('hari ini tanggal berapa?'))"
      ],
      "execution_count": null,
      "outputs": [
        {
          "output_type": "stream",
          "text": [
            "Itu sangat menarik!\n",
            "maaf, aku tidak tahu jawaban dari pertanyaanmu\n",
            "orang-orang memanggil saya Fahmi Jabbar\n",
            "ya ampun masa tidak tahu, hari ini tanggal 18\n"
          ],
          "name": "stdout"
        }
      ]
    }
  ]
}